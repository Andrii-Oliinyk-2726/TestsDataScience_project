{
  "nbformat": 4,
  "nbformat_minor": 0,
  "metadata": {
    "colab": {
      "provenance": [],
      "authorship_tag": "ABX9TyNcS9pMlyFcDoOMuX7DWOHX",
      "include_colab_link": true
    },
    "kernelspec": {
      "name": "python3",
      "display_name": "Python 3"
    },
    "language_info": {
      "name": "python"
    }
  },
  "cells": [
    {
      "cell_type": "markdown",
      "metadata": {
        "id": "view-in-github",
        "colab_type": "text"
      },
      "source": [
        "<a href=\"https://colab.research.google.com/github/Andrii-Oliinyk-2726/TestsDataScience_project/blob/main/ElasticsearchCloud_defs.ipynb\" target=\"_parent\"><img src=\"https://colab.research.google.com/assets/colab-badge.svg\" alt=\"Open In Colab\"/></a>"
      ]
    },
    {
      "cell_type": "code",
      "source": [
        "pip install elasticsearch"
      ],
      "metadata": {
        "colab": {
          "base_uri": "https://localhost:8080/"
        },
        "id": "sGA-TKBB3aRU",
        "outputId": "2efcea24-a6a5-4c65-88d4-9cd1b9b1a3a2"
      },
      "execution_count": 43,
      "outputs": [
        {
          "output_type": "stream",
          "name": "stdout",
          "text": [
            "Requirement already satisfied: elasticsearch in /usr/local/lib/python3.10/dist-packages (8.11.0)\n",
            "Requirement already satisfied: elastic-transport<9,>=8 in /usr/local/lib/python3.10/dist-packages (from elasticsearch) (8.10.0)\n",
            "Requirement already satisfied: urllib3<3,>=1.26.2 in /usr/local/lib/python3.10/dist-packages (from elastic-transport<9,>=8->elasticsearch) (2.0.7)\n",
            "Requirement already satisfied: certifi in /usr/local/lib/python3.10/dist-packages (from elastic-transport<9,>=8->elasticsearch) (2023.7.22)\n"
          ]
        }
      ]
    },
    {
      "cell_type": "code",
      "source": [
        "from elasticsearch import Elasticsearch"
      ],
      "metadata": {
        "id": "lD-qQMHt2pxM"
      },
      "execution_count": 44,
      "outputs": []
    },
    {
      "cell_type": "code",
      "execution_count": 45,
      "metadata": {
        "id": "KfXeItM92bS7"
      },
      "outputs": [],
      "source": [
        "es_connection = Elasticsearch(cloud_id=\"My_deployment:ZXVyb3BlLXdlc3Q0LmdjcC5lbGFzdGljLWNsb3VkLmNvbSRiNDE0ZjJkODAwMTU0OTE1OGEyNzVkOWY0MjljMGNmZiQzMzhlOWQxZDAxMWE0NTlmOTI2MzZhODQxNzI5YTEwYQ==\", basic_auth=(\"elastic\",\"7mg7tijkb1f4TcYYtrQ13djF\"))"
      ]
    },
    {
      "cell_type": "code",
      "source": [
        "def record_context(id_: str, context: str, connection: Elasticsearch) -> None:\n",
        "    try:\n",
        "        connection.index(index='contexts', id=id_, body={'context': context})\n",
        "        print(f\"Record with id {id_} added successfully.\")\n",
        "    except Exception as e:\n",
        "        print(f\"Error adding record with id {id_}: {e}\")"
      ],
      "metadata": {
        "id": "tVZ05Zt_CmVM"
      },
      "execution_count": 46,
      "outputs": []
    },
    {
      "cell_type": "code",
      "source": [
        "def get_context(id_: str, connection: Elasticsearch) -> dict:\n",
        "    try:\n",
        "        result = connection.get(index='contexts', id=id_)\n",
        "        return result['_source']\n",
        "    except Exception as e:\n",
        "        print(f\"Error getting record with id {id_}: {e}\")\n",
        "        return None"
      ],
      "metadata": {
        "id": "B572RgUkFxiV"
      },
      "execution_count": 47,
      "outputs": []
    },
    {
      "cell_type": "code",
      "source": [
        "def view_all_documents(connection: Elasticsearch, index_name: str = 'contexts') -> None:\n",
        "    try:\n",
        "        result = connection.search(index=index_name, body={\"query\": {\"match_all\": {}}})\n",
        "\n",
        "        for hit in result['hits']['hits']:\n",
        "            print(f\"ID: {hit['_id']}, Context: {hit['_source']['context']}\")\n",
        "    except Exception as e:\n",
        "        print(f\"Error viewing all documents: {e}\")"
      ],
      "metadata": {
        "id": "blx2c7GkzBIN"
      },
      "execution_count": 48,
      "outputs": []
    },
    {
      "cell_type": "code",
      "source": [
        "def delete_context(id_: str, connection: Elasticsearch) -> None:\n",
        "    try:\n",
        "        connection.delete(index='contexts', id=id_)\n",
        "        print(f\"Record with id {id_} deleted successfully.\")\n",
        "    except Exception as e:\n",
        "        print(f\"Error deleting record with id {id_}: {e}\")"
      ],
      "metadata": {
        "id": "7VhVibOeDdxw"
      },
      "execution_count": 49,
      "outputs": []
    },
    {
      "cell_type": "code",
      "source": [
        "context = \"This is a sample context.\"\n",
        "record_context(\"1\", context, es_connection)"
      ],
      "metadata": {
        "colab": {
          "base_uri": "https://localhost:8080/"
        },
        "id": "raC1lDU0Coos",
        "outputId": "64889358-7181-4b32-c411-cf72bb06f366"
      },
      "execution_count": 50,
      "outputs": [
        {
          "output_type": "stream",
          "name": "stdout",
          "text": [
            "Record with id 1 added successfully.\n"
          ]
        }
      ]
    },
    {
      "cell_type": "code",
      "source": [
        "context = get_context(\"1\", es_connection)\n",
        "if context:\n",
        "    print(f\"Context with id 1: {context}\")"
      ],
      "metadata": {
        "colab": {
          "base_uri": "https://localhost:8080/"
        },
        "id": "DfzW-ThwGEF1",
        "outputId": "b90b3f19-f2c1-4efb-c2b4-0c3e217324ef"
      },
      "execution_count": 51,
      "outputs": [
        {
          "output_type": "stream",
          "name": "stdout",
          "text": [
            "Context with id 1: {'context': 'This is a sample context.'}\n"
          ]
        }
      ]
    },
    {
      "cell_type": "code",
      "source": [
        "view_all_documents(es_connection)"
      ],
      "metadata": {
        "colab": {
          "base_uri": "https://localhost:8080/"
        },
        "id": "1m31PzqgzGtc",
        "outputId": "b848602d-f339-48d1-d244-9618ea633ea9"
      },
      "execution_count": 52,
      "outputs": [
        {
          "output_type": "stream",
          "name": "stdout",
          "text": [
            "ID: 12345678, Context: Python is a high-level, general-purpose programming language. Its design philosophy emphasizes code readability with the use of significant indentation. Python is dynamically typed and garbage-collected. It supports multiple programming paradigms, including structured, object-oriented (OO), and functional programming.\n",
            "\n",
            "Python is a versatile language that can be used for a wide variety of tasks, including:\n",
            "\n",
            "Web development: Python can be used to create web applications using frameworks like Django and Flask.\n",
            "Data science: Python is a popular language for data science due to its large number of libraries for data analysis and machine learning.\n",
            "Software development: Python can be used to create desktop and mobile applications.\n",
            "System administration: Python can be used to automate tasks and manage system resources.\n",
            "Scripting: Python can be used to write scripts for a variety of tasks, such as automating tasks in other applications.\n",
            "Python is a popular language for beginners because it is easy to learn and read. It is also a popular language for experienced programmers because it is versatile and powerful.\n",
            "\n",
            "Here are some of the benefits of using Python:\n",
            "\n",
            "Readability: Python's code is easy to read and understand, making it easier to write and maintain code.\n",
            "Versatility: Python can be used for a wide variety of tasks, making it a good choice for a variety of projects.\n",
            "Large community: Python has a large and active community, which means that there is a lot of support available for learning and using the language.\n",
            "Numerous libraries: Python has a large number of libraries available, which makes it easier to find the right tool for the job.\n",
            "ID: 12345679, Context: Python is a high-level, general-purpose programming language. Its design philosophy emphasizes code readability with the use of significant indentation. Python is dynamically typed and garbage-collected. It supports multiple programming paradigms, including structured, object-oriented (OO), and functional programming.\n",
            "\n",
            "Python is a versatile language that can be used for a wide variety of tasks, including:\n",
            "\n",
            "Web development: Python can be used to create web applications using frameworks like Django and Flask.\n",
            "Data science: Python is a popular language for data science due to its large number of libraries for data analysis and machine learning.\n",
            "Software development: Python can be used to create desktop and mobile applications.\n",
            "System administration: Python can be used to automate tasks and manage system resources.\n",
            "Scripting: Python can be used to write scripts for a variety of tasks, such as automating tasks in other applications.\n",
            "Python is a popular language for beginners because it is easy to learn and read. It is also a popular language for experienced programmers because it is versatile and powerful.\n",
            "\n",
            "Here are some of the benefits of using Python:\n",
            "\n",
            "Readability: Python's code is easy to read and understand, making it easier to write and maintain code.\n",
            "Versatility: Python can be used for a wide variety of tasks, making it a good choice for a variety of projects.\n",
            "Large community: Python has a large and active community, which means that there is a lot of support available for learning and using the language.\n",
            "Numerous libraries: Python has a large number of libraries available, which makes it easier to find the right tool for the job.\n",
            "ID: 10, Context: Python is a high-level, general-purpose programming language. Its design philosophy emphasizes code readability with the use of significant indentation. Python is dynamically typed and garbage-collected. It supports multiple programming paradigms, including structured, object-oriented (OO), and functional programming.\n",
            "\n",
            "Python is a versatile language that can be used for a wide variety of tasks, including:\n",
            "\n",
            "Web development: Python can be used to create web applications using frameworks like Django and Flask.\n",
            "Data science: Python is a popular language for data science due to its large number of libraries for data analysis and machine learning.\n",
            "Software development: Python can be used to create desktop and mobile applications.\n",
            "System administration: Python can be used to automate tasks and manage system resources.\n",
            "Scripting: Python can be used to write scripts for a variety of tasks, such as automating tasks in other applications.\n",
            "Python is a popular language for beginners because it is easy to learn and read. It is also a popular language for experienced programmers because it is versatile and powerful.\n",
            "\n",
            "Here are some of the benefits of using Python:\n",
            "\n",
            "Readability: Python's code is easy to read and understand, making it easier to write and maintain code.\n",
            "Versatility: Python can be used for a wide variety of tasks, making it a good choice for a variety of projects.\n",
            "Large community: Python has a large and active community, which means that there is a lot of support available for learning and using the language.\n",
            "Numerous libraries: Python has a large number of libraries available, which makes it easier to find the right tool for the job.\n",
            "ID: test, Context: Lorem ipsum \n",
            "\n",
            "\n",
            "\n",
            "Lorem ipsum dolor sit amet, consectetur adipiscing elit. Nunc ac faucibus odio. \n",
            "\n",
            "\n",
            "\n",
            "Vestibulum neque massa, scelerisque sit amet ligula eu, congue molestie mi. Praesent ut varius sem. Nullam at porttitor arcu, nec lacinia nisi. Ut ac dolor vitae odio interdum condimentum. Vivamus dapibus sodales ex, vitae malesuada ipsum cursus convallis. Maecenas sed egestas nulla, ac condimentum orci. Mauris diam felis, vulputate ac suscipit et, iaculis non est. Curabitur semper arcu ac ligula semper, nec luctus nisl blandit. Integer lacinia ante ac libero lobortis imperdiet. Nullam mollis convallis ipsum, ac accumsan nunc vehicula vitae. Nulla eget justo in felis tristique fringilla. Morbi sit amet tortor quis risus auctor condimentum. Morbi in ullamcorper elit. Nulla iaculis tellus sit amet mauris tempus fringilla.\n",
            "\n",
            "Maecenas mauris lectus, lobortis et purus mattis, blandit dictum tellus.\n",
            "\n",
            "Maecenas non lorem quis tellus placerat varius. \n",
            "\n",
            "Nulla facilisi. \n",
            "\n",
            "Aenean congue fringilla justo ut aliquam. \n",
            "\n",
            "Mauris id ex erat. Nunc vulputate neque vitae justo facilisis, non condimentum ante sagittis. \n",
            "\n",
            "Morbi viverra semper lorem nec molestie. \n",
            "\n",
            "Maecenas tincidunt est efficitur ligula euismod, sit amet ornare est vulputate.\n",
            "\n",
            "\n",
            "\n",
            "\n",
            "\n",
            "\n",
            "\n",
            "\n",
            "\n",
            "\n",
            "\n",
            "\n",
            "\n",
            "\n",
            "\n",
            "\n",
            "\n",
            "\n",
            "\n",
            "In non mauris justo. Duis vehicula mi vel mi pretium, a viverra erat efficitur. Cras aliquam est ac eros varius, id iaculis dui auctor. Duis pretium neque ligula, et pulvinar mi placerat et. Nulla nec nunc sit amet nunc posuere vestibulum. Ut id neque eget tortor mattis tristique. Donec ante est, blandit sit amet tristique vel, lacinia pulvinar arcu. Pellentesque scelerisque fermentum erat, id posuere justo pulvinar ut. Cras id eros sed enim aliquam lobortis. Sed lobortis nisl ut eros efficitur tincidunt. Cras justo mi, porttitor quis mattis vel, ultricies ut purus. Ut facilisis et lacus eu cursus.\n",
            "\n",
            "In eleifend velit vitae libero sollicitudin euismod. Fusce vitae vestibulum velit. Pellentesque vulputate lectus quis pellentesque commodo. Aliquam erat volutpat. Vestibulum in egestas velit. Pellentesque fermentum nisl vitae fringilla venenatis. Etiam id mauris vitae orci maximus ultricies. \n",
            "\n",
            "\n",
            "\n",
            "Cras fringilla ipsum magna, in fringilla dui commodo a.\n",
            "\n",
            "\n",
            "\n",
            "\n",
            "\n",
            "Lorem ipsum\n",
            "\n",
            "Lorem ipsum\n",
            "\n",
            "Lorem ipsum\n",
            "\n",
            "1\n",
            "\n",
            "In eleifend velit vitae libero sollicitudin euismod.\n",
            "\n",
            "Lorem\n",
            "\n",
            "\n",
            "\n",
            "2\n",
            "\n",
            "Cras fringilla ipsum magna, in fringilla dui commodo a.\n",
            "\n",
            "Ipsum\n",
            "\n",
            "\n",
            "\n",
            "3\n",
            "\n",
            "Aliquam erat volutpat. \n",
            "\n",
            "Lorem\n",
            "\n",
            "\n",
            "\n",
            "4\n",
            "\n",
            "Fusce vitae vestibulum velit. \n",
            "\n",
            "Lorem\n",
            "\n",
            "\n",
            "\n",
            "5\n",
            "\n",
            "Etiam vehicula luctus fermentum.\n",
            "\n",
            "Ipsum\n",
            "\n",
            "\n",
            "\n",
            "\n",
            "\n",
            "Etiam vehicula luctus fermentum. In vel metus congue, pulvinar lectus vel, fermentum dui. Maecenas ante orci, egestas ut aliquet sit amet, sagittis a magna. Aliquam ante quam, pellentesque ut dignissim quis, laoreet eget est. Aliquam erat volutpat. Class aptent taciti sociosqu ad litora torquent per conubia nostra, per inceptos himenaeos. Ut ullamcorper justo sapien, in cursus libero viverra eget. Vivamus auctor imperdiet urna, at pulvinar leo posuere laoreet. Suspendisse neque nisl, fringilla at iaculis scelerisque, ornare vel dolor. Ut et pulvinar nunc. Pellentesque fringilla mollis efficitur. Nullam venenatis commodo imperdiet. Morbi velit neque, semper quis lorem quis, efficitur dignissim ipsum. Ut ac lorem sed turpis imperdiet eleifend sit amet id sapien.\n",
            "\n",
            "\n",
            "\n",
            "\n",
            "\n",
            "Lorem ipsum dolor sit amet, consectetur adipiscing elit. \n",
            "\n",
            "\n",
            "\n",
            "Nunc ac faucibus odio. Vestibulum neque massa, scelerisque sit amet ligula eu, congue molestie mi. Praesent ut varius sem. Nullam at porttitor arcu, nec lacinia nisi. Ut ac dolor vitae odio interdum condimentum. Vivamus dapibus sodales ex, vitae malesuada ipsum cursus convallis. Maecenas sed egestas nulla, ac condimentum orci. Mauris diam felis, vulputate ac suscipit et, iaculis non est. Curabitur semper arcu ac ligula semper, nec luctus nisl blandit. Integer lacinia ante ac libero lobortis imperdiet. Nullam mollis convallis ipsum, ac accumsan nunc vehicula vitae. Nulla eget justo in felis tristique fringilla. Morbi sit amet tortor quis risus auctor condimentum. Morbi in ullamcorper elit. Nulla iaculis tellus sit amet mauris tempus fringilla.\n",
            "\n",
            "Maecenas mauris lectus, lobortis et purus mattis, blandit dictum tellus. \n",
            "\n",
            "Maecenas non lorem quis tellus placerat varius. Nulla facilisi. Aenean congue fringilla justo ut aliquam. Mauris id ex erat. Nunc vulputate neque vitae justo facilisis, non condimentum ante sagittis. Morbi viverra semper lorem nec molestie. Maecenas tincidunt est efficitur ligula euismod, sit amet ornare est vulputate.\n",
            "\n",
            "In non mauris justo. Duis vehicula mi vel mi pretium, a viverra erat efficitur. Cras aliquam est ac eros varius, id iaculis dui auctor. Duis pretium neque ligula, et pulvinar mi placerat et. Nulla nec nunc sit amet nunc posuere vestibulum. Ut id neque eget tortor mattis tristique. Donec ante est, blandit sit amet tristique vel, lacinia pulvinar arcu. Pellentesque scelerisque fermentum erat, id posuere justo pulvinar ut. Cras id eros sed enim aliquam lobortis. Sed lobortis nisl ut eros efficitur tincidunt. Cras justo mi, porttitor quis mattis vel, ultricies ut purus. Ut facilisis et lacus eu cursus.\n",
            "\n",
            "In eleifend velit vitae libero sollicitudin euismod. \n",
            "\n",
            "Fusce vitae vestibulum velit. Pellentesque vulputate lectus quis pellentesque commodo. Aliquam erat volutpat. Vestibulum in egestas velit. Pellentesque fermentum nisl vitae fringilla venenatis. Etiam id mauris vitae orci maximus ultricies. Cras fringilla ipsum magna, in fringilla dui commodo a.\n",
            "\n",
            "Etiam vehicula luctus fermentum. In vel metus congue, pulvinar lectus vel, fermentum dui. Maecenas ante orci, egestas ut aliquet sit amet, sagittis a magna. Aliquam ante quam, pellentesque ut dignissim quis, laoreet eget est. Aliquam erat volutpat. Class aptent taciti sociosqu ad litora torquent per conubia nostra, per inceptos himenaeos. Ut ullamcorper justo sapien, in cursus libero viverra eget. Vivamus auctor imperdiet urna, at pulvinar leo posuere laoreet. Suspendisse neque nisl, fringilla at iaculis scelerisque, ornare vel dolor. Ut et pulvinar nunc. Pellentesque fringilla mollis efficitur. Nullam venenatis commodo imperdiet. Morbi velit neque, semper quis lorem quis, efficitur dignissim ipsum. Ut ac lorem sed turpis imperdiet eleifend sit amet id sapien.\n",
            "ID: test_id_pred, Context: Python is an interpreted, object-oriented, high-level programming language with dynamic semantics. Its high-level built in data structures, combined with dynamic typing and dynamic binding, make it very attractive for Rapid Application Development, as well as for use as a scripting or glue language to connect existing components together. Python's simple, easy to learn syntax emphasizes readability and therefore reduces the cost of program maintenance. Python supports modules and packages, which encourages program modularity and code reuse. The Python interpreter and the extensive standard library are available in source or binary form without charge for all major platforms, and can be freely distributed.\n",
            "\n",
            "Often, programmers fall in love with Python because of the increased productivity it provides. Since there is no compilation step, the edit-test-debug cycle is incredibly fast. Debugging Python programs is easy: a bug or bad input will never cause a segmentation fault. Instead, when the interpreter discovers an error, it raises an exception. When the program doesn't catch the exception, the interpreter prints a stack trace. A source level debugger allows inspection of local and global variables, evaluation of arbitrary expressions, setting breakpoints, stepping through the code a line at a time, and so on. The debugger is written in Python itself, testifying to Python's introspective power. On the other hand, often the quickest way to debug a program is to add a few print statements to the source: the fast edit-test-debug cycle makes this simple approach very effective.\n",
            "ID: test_id, Context: Python is an interpreted, object-oriented, high-level programming language with dynamic semantics. Its high-level built in data structures, combined with dynamic typing and dynamic binding, make it very attractive for Rapid Application Development, as well as for use as a scripting or glue language to connect existing components together. Python's simple, easy to learn syntax emphasizes readability and therefore reduces the cost of program maintenance. Python supports modules and packages, which encourages program modularity and code reuse. The Python interpreter and the extensive standard library are available in source or binary form without charge for all major platforms, and can be freely distributed.\n",
            "\n",
            "Often, programmers fall in love with Python because of the increased productivity it provides. Since there is no compilation step, the edit-test-debug cycle is incredibly fast. Debugging Python programs is easy: a bug or bad input will never cause a segmentation fault. Instead, when the interpreter discovers an error, it raises an exception. When the program doesn't catch the exception, the interpreter prints a stack trace. A source level debugger allows inspection of local and global variables, evaluation of arbitrary expressions, setting breakpoints, stepping through the code a line at a time, and so on. The debugger is written in Python itself, testifying to Python's introspective power. On the other hand, often the quickest way to debug a program is to add a few print statements to the source: the fast edit-test-debug cycle makes this simple approach very effective.\n",
            "ID: 1, Context: This is a sample context.\n"
          ]
        }
      ]
    },
    {
      "cell_type": "code",
      "source": [
        "delete_context(\"1\", es_connection)"
      ],
      "metadata": {
        "colab": {
          "base_uri": "https://localhost:8080/"
        },
        "id": "bPm6WuyhEDuI",
        "outputId": "d71039ff-d6ca-4a64-e34d-d60694e57088"
      },
      "execution_count": 53,
      "outputs": [
        {
          "output_type": "stream",
          "name": "stdout",
          "text": [
            "Record with id 1 deleted successfully.\n"
          ]
        }
      ]
    }
  ]
}